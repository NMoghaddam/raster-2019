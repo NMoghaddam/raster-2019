{
 "cells": [
  {
   "cell_type": "markdown",
   "metadata": {},
   "source": [
    "# Landsat-8\n",
    "\n",
    "\n",
    "<div class=\"alert-info\">\n",
    "\n",
    "### Overview\n",
    "    \n",
    "* **teaching:** 30 minutes\n",
    "* **exercises:** 0\n",
    "* **questions:**\n",
    "    * How can I find, anaylize, and visualize Landsat8 satellite imagery for an area of interest using Python?\n",
    "    \n",
    "</div>\n",
    "\n",
    "\n",
    "This notebook will focus on accessing public datasets on AWS for a target area affected by Cyclone Kenneth (2019-04-25). Read more about this event and its impact at the [Humanitarian Open Street Map website](https://tasks.hotosm.org/project/5977). We will use a bounding box we will work with covers the island of Nagazidja, including the captial [city of Moroni](https://en.wikipedia.org/wiki/Moroni,_Comoros) - Union of the Comoros, a sovereign archipelago nation in the Indian Ocean. \n",
    "\n",
    "We will examine raster images from the [Landsat-8 instrument](https://www.usgs.gov/land-resources/nli/landsat). The Landsat program is the longest-running civilian satellite imagery program, with the first satellite launched in 1972 by the US Geological Survey. Landsat 8 is the latest satellite in this program, and was launched in 2013. Landsat observations are processed into “scenes”, each of which is approximately 183 km x 170 km, with a spatial resolution of 30 meters and a temporal resolution of 16 days. The duration of the landsat program makes it an attractive source of medium-scale imagery for land surface change analyses.\n",
    "\n",
    "Additional code examples for Landsat-8 can be found in Geohackweek 2018 content: https://geohackweek.github.io/raster/04-workingwithrasters/"
   ]
  },
  {
   "cell_type": "markdown",
   "metadata": {},
   "source": [
    "## Table of contents\n",
    "\n",
    "1. [**Sat-search**](#Sat-search)\n",
    "1. [**Holoviz visualization**](#Holoviz)\n",
    "1. [**Rasterio and xarray**](#Rasterio-and-xarray)"
   ]
  },
  {
   "cell_type": "code",
   "execution_count": null,
   "metadata": {},
   "outputs": [],
   "source": [
    "# Import libraries\n",
    "import geopandas as gpd\n",
    "import pandas as pd\n",
    "import satsearch\n",
    "from satstac import Items\n",
    "\n",
    "import holoviews as hv\n",
    "import hvplot.xarray\n",
    "import hvplot.pandas\n",
    "import geoviews as gv\n",
    "\n",
    "import ipywidgets\n",
    "import datetime\n",
    "\n",
    "from ipywidgets import interact\n",
    "from IPython.display import display, Image\n",
    "\n",
    "import json\n",
    "from cartopy import crs as ccrs\n",
    "\n",
    "import rasterio\n",
    "import rasterio.mask\n",
    "from rasterio.session import AWSSession\n",
    "import xarray as xr\n",
    "\n",
    "import matplotlib.pyplot as plt\n",
    "from matplotlib.colors import LogNorm\n",
    "%matplotlib inline"
   ]
  },
  {
   "cell_type": "code",
   "execution_count": null,
   "metadata": {},
   "outputs": [],
   "source": [
    "# Set up our bounding box\n",
    "bbox = [43.16, -11.32, 43.54, -11.96]\n",
    "west, north, east, south = bbox\n",
    "bbox_ctr = [0.5*(north+south), 0.5*(west+east)]"
   ]
  },
  {
   "cell_type": "markdown",
   "metadata": {},
   "source": [
    "## Sat-search \n",
    "\n",
    "[Sat-search](https://github.com/sat-utils/sat-search) is open-source software designed to easily discover public imagery on AWS. It depends upon metadata called Spatio-Temporal Asset Catalogs [STAC catalogs](https://stacspec.org/) to filter scenes. We will use it to search for Landsat-8 data covering our area of interest"
   ]
  },
  {
   "cell_type": "code",
   "execution_count": null,
   "metadata": {},
   "outputs": [],
   "source": [
    "# bbox as a python list is great for use in python, but we can instead save to a more interoperable format (GeoJSON)\n",
    "# Here is a great website for creating and visualizing geojson on a map: http://geojson.io\n",
    "\n",
    "aoi = { \"type\": \"Polygon\", \n",
    "    \"coordinates\": [[[west, south], [west, north], [east, north], [east, south], [west, south]]]\n",
    "}\n",
    "# pretty print formatting\n",
    "print(json.dumps(aoi, sort_keys=False, indent=2))\n",
    "\n",
    "# save to file for future use\n",
    "with open('aoi-5977.geojson', 'w') as f:\n",
    "    json.dump(aoi, f)"
   ]
  },
  {
   "cell_type": "code",
   "execution_count": null,
   "metadata": {},
   "outputs": [],
   "source": [
    "# Load results to pandas geodataframe\n",
    "# now other packages such as geojson can read this file\n",
    "gfa = gpd.read_file('aoi-5977.geojson')\n",
    "gfa"
   ]
  },
  {
   "cell_type": "code",
   "execution_count": null,
   "metadata": {},
   "outputs": [],
   "source": [
    "# Get results for bbox and time range\n",
    "results = satsearch.Search(bbox=bbox, datetime='2019-02-01/2019-06-01')\n",
    "print('%s items' % results.found())\n",
    "items = results.items()\n",
    "print('%s collections:' % len(items._collections))\n",
    "print(items._collections)\n"
   ]
  },
  {
   "cell_type": "code",
   "execution_count": null,
   "metadata": {},
   "outputs": [],
   "source": [
    "# If you are unfamiliar with one of these satellites, we can look at stored metadata\n",
    "col = items._collections[1]\n",
    "\n",
    "print('Title:', col.title)\n",
    "print('Collection Version:', col.version)\n",
    "print('Keywords: ', col.keywords)\n",
    "print('License:', col.license)\n",
    "print('Providers:', col.providers)\n",
    "print('Extent', col.extent)"
   ]
  },
  {
   "cell_type": "code",
   "execution_count": null,
   "metadata": {},
   "outputs": [],
   "source": [
    "# We can delve deeper to see what kind of metadata is available at the scene level\n",
    "for key in col.properties:\n",
    "    if key == 'eo:bands':\n",
    "        [print(band) for band in col[key]]\n",
    "    else:\n",
    "        print('%s: %s' % (key, col[key]))"
   ]
  },
  {
   "cell_type": "code",
   "execution_count": null,
   "metadata": {},
   "outputs": [],
   "source": [
    "# Search for just tier1 Landsat8 scenes, all dates\n",
    "properties =  [\"landsat:tier=T1\"] \n",
    "\n",
    "bbox = (west, south, east, north) #(min lon, min lat, max lon, max lat)\n",
    "\n",
    "results = satsearch.Search.search(collection='landsat-8-l1', \n",
    "                        bbox=bbox, \n",
    "                        sort=['<datetime'], #earliest scene first\n",
    "                        property=properties)\n",
    "print('%s items' % results.found())"
   ]
  },
  {
   "cell_type": "code",
   "execution_count": null,
   "metadata": {},
   "outputs": [],
   "source": [
    "# Save search results for later or to share with others\n",
    "items = results.items()\n",
    "items.save('items-landsat8.json')\n",
    "items = Items.load('items-landsat8.json')"
   ]
  },
  {
   "cell_type": "code",
   "execution_count": null,
   "metadata": {},
   "outputs": [],
   "source": [
    "# # Assets correspond to actual images related to a STAC metadata item\n",
    "# Use pandas to better display python dictionaries!\n",
    "pd.DataFrame(items[0].assets).T.reset_index()"
   ]
  },
  {
   "cell_type": "code",
   "execution_count": null,
   "metadata": {},
   "outputs": [],
   "source": [
    "# Read results into a geopandas GeoDataFrame\n",
    "gfl = gpd.read_file('items-landsat8.json')\n",
    "gfl = gfl.sort_values('datetime').reset_index(drop=True)\n",
    "print('records:', len(gfl))\n",
    "gfl.head()"
   ]
  },
  {
   "cell_type": "code",
   "execution_count": null,
   "metadata": {},
   "outputs": [],
   "source": [
    "# Hack for neat display of band information\n",
    "import ast\n",
    "band_info = pd.DataFrame(ast.literal_eval(gfl.iloc[0]['eo:bands']))\n",
    "band_info"
   ]
  },
  {
   "cell_type": "code",
   "execution_count": null,
   "metadata": {},
   "outputs": [],
   "source": [
    "# Note the cloud_cover column, we can narrow our search by any of these properties\n",
    "properties.extend([\"eo:cloud_cover<10\"])\n",
    "\n",
    "test = satsearch.Search.search(collection='landsat-8-l1', \n",
    "                        bbox=bbox, \n",
    "                        sort=['<datetime'], #earliest scene first\n",
    "                        property=properties)\n",
    "print('%s items' % test.found())"
   ]
  },
  {
   "cell_type": "code",
   "execution_count": null,
   "metadata": {},
   "outputs": [],
   "source": [
    "# Or since we can just use geopandas to filter results\n",
    "subset = gfl[gfl['eo:cloud_cover'] < 10]\n",
    "print('%s items' % len(subset))"
   ]
  },
  {
   "cell_type": "markdown",
   "metadata": {},
   "source": [
    "## Holoviz\n",
    "\n",
    "[Holoviz](https://holoviz.org/) is a set of Python visualization libraries that simplify interactive visualizations of data in a web-browser. We'll use several of these libraries including hvplot and geoviews to visualize both vector data (such as image footprints) and raster data (actual raster values). \n",
    "\n",
    "<div class=\"alert-warning\">\n",
    "\n",
    "#### Note \n",
    "    \n",
    "the toolbars on the right and side of these plots. We are using a library called Bokeh that gives interactive widgets to zoom in and pan around on maps.\n",
    "</div>"
   ]
  },
  {
   "cell_type": "code",
   "execution_count": null,
   "metadata": {},
   "outputs": [],
   "source": [
    "# Plot search AOI and frames on a map using Holoviz Libraries\n",
    "cols = gfl.loc[:,('id','geometry')]\n",
    "\n",
    "footprints = cols.hvplot(geo=True, line_color='k', alpha=0.1, title='Landsat 8 T1')\n",
    "aoi = gfa.hvplot(geo=True, line_color='b', fill_color=None)\n",
    "tiles = gv.tile_sources.CartoEco.options(width=700, height=500) \n",
    "labels = gv.tile_sources.StamenLabels.options(level='annotation')\n",
    "tiles * footprints * aoi * labels"
   ]
  },
  {
   "cell_type": "markdown",
   "metadata": {},
   "source": [
    "## ipywidgets\n",
    "\n",
    "[ipywidgets](https://ipywidgets.readthedocs.io/en/latest/) provide another convenient approach to custom visualizations. The function below allows us to browse through all the image thumbnails for a group of images (more specifically a specific Landsat8 path and row). "
   ]
  },
  {
   "cell_type": "code",
   "execution_count": null,
   "metadata": {},
   "outputs": [],
   "source": [
    "def browse_images(items):\n",
    "    n = len(items)\n",
    "\n",
    "    def view_image(i=0):\n",
    "        item = items[i]\n",
    "        print(f\"id={item.id}\\tdate={item.datetime}\\tcloud%={item['eo:cloud_cover']}\")\n",
    "        display(Image(item.asset('thumbnail')['href']))\n",
    "    \n",
    "    interact(view_image, i=(0,n-1))"
   ]
  },
  {
   "cell_type": "code",
   "execution_count": null,
   "metadata": {},
   "outputs": [],
   "source": [
    "# Custom syntax (additional fields, query strings instead of query dict)\n",
    "properties =  [\"eo:row=068\",\n",
    "               \"eo:column=162\",\n",
    "               \"landsat:tier=T1\"] \n",
    "results = satsearch.Search.search(collection='landsat-8-l1', \n",
    "                        bbox=bbox, \n",
    "                        sort=['<datetime'], #earliest scene first\n",
    "                        property=properties)\n",
    "print('%s items' % results.found())\n",
    "items = results.items()"
   ]
  },
  {
   "cell_type": "code",
   "execution_count": null,
   "metadata": {},
   "outputs": [],
   "source": [
    "# May not work on Chrome currently, does work on Safari\n",
    "browse_images(items) "
   ]
  },
  {
   "cell_type": "markdown",
   "metadata": {},
   "source": [
    "## Rasterio and xarray\n",
    "\n",
    "To actually load full resolution data from a particular Landsat-8 band we'll use rasterio and xarray libraries."
   ]
  },
  {
   "cell_type": "code",
   "execution_count": null,
   "metadata": {},
   "outputs": [],
   "source": [
    "# These are environmnent variable settings for efficiently reading data on AWS S3\n",
    "env = rasterio.Env(GDAL_DISABLE_READDIR_ON_OPEN='EMPTY_DIR',\n",
    "                  CPL_VSIL_CURL_ALLOWED_EXTENSIONS='TIF',\n",
    "                 )"
   ]
  },
  {
   "cell_type": "code",
   "execution_count": null,
   "metadata": {},
   "outputs": [],
   "source": [
    "item = items[0]\n",
    "band = 'red'\n",
    "url = item.asset(band)['href']\n",
    "print(url)\n",
    "with env:\n",
    "    with rasterio.open(url) as src:\n",
    "        print(src.profile) # image metadata\n",
    "        width = src.width\n",
    "        blockx = src.profile['blockxsize']\n",
    "        blocky = src.profile['blockysize']\n",
    "        xchunk = int(width/blockx)*blockx\n",
    "        ychunk = blocky\n",
    "        da = xr.open_rasterio(src, chunks={'band': 1, 'x': xchunk, 'y': ychunk})\n",
    "da"
   ]
  },
  {
   "cell_type": "code",
   "execution_count": null,
   "metadata": {},
   "outputs": [],
   "source": [
    "# Nice dask array visualization\n",
    "da.data"
   ]
  },
  {
   "cell_type": "code",
   "execution_count": null,
   "metadata": {},
   "outputs": [],
   "source": [
    "# This will pull raster data over network. if operating in the same AWS region, should be very fast!\n",
    "# NOTE: seems there is a bug currently with 'logz' for a log-scale colorbar\n",
    "img = da.hvplot.image(rasterize=True, logz=True, width=700, height=500, cmap='reds', title=f'{item.id} ({band})')\n",
    "img "
   ]
  },
  {
   "cell_type": "markdown",
   "metadata": {},
   "source": [
    "### Visualize with on-the-fly reprojection"
   ]
  },
  {
   "cell_type": "code",
   "execution_count": null,
   "metadata": {},
   "outputs": [],
   "source": [
    "# Display image in latitute, longitude coordinates instead of EPSG:32638 (UTM 38N)\n",
    "crs = ccrs.UTM(zone='38N') \n",
    "img = da.hvplot.image(crs=crs, rasterize=True, width=700, height=500, cmap='reds', alpha=0.8, title=f'{item.id} ({band})') # , logz=True not working \n",
    "aoi = gfa.hvplot(geo=True, line_color='b', fill_color=None)\n",
    "img * aoi"
   ]
  },
  {
   "cell_type": "markdown",
   "metadata": {},
   "source": [
    "### Image subsets and crop by shapefile\n",
    "\n",
    "Often we are only interested in small regions of full images. One of the killer features of cloud-optimized data formats stored on the cloud is that we can efficiently pull subsets of an image rather than the whole thing. Here we'll pull only the pixels within a vector polygon in our area of interest.\n",
    "\n",
    "<div class=\"alert-warning\">\n",
    "\n",
    "#### Note \n",
    "    \n",
    "It's up to you to make sure the vector and raster CRS's match!\n",
    "</div>"
   ]
  },
  {
   "cell_type": "code",
   "execution_count": null,
   "metadata": {},
   "outputs": [],
   "source": [
    "gfa"
   ]
  },
  {
   "cell_type": "code",
   "execution_count": null,
   "metadata": {},
   "outputs": [],
   "source": [
    "with rasterio.open(url) as src:\n",
    "    # re-project vector to match raster CRS\n",
    "    print(src.meta)\n",
    "    shape = gfa.to_crs(epsg=src.crs.to_epsg())\n",
    "    out_image, out_transform = rasterio.mask.mask(src, shape.geometry.values, crop=True)\n",
    "    out_meta = src.meta\n",
    "    out_meta.update({\n",
    "                 \"height\": out_image.shape[1],\n",
    "                 \"width\": out_image.shape[2],\n",
    "                 \"transform\": out_transform})\n",
    "    print(out_meta)\n",
    "    \n",
    "    # write small image to local Geotiff file\n",
    "    with rasterio.open('subset.tif', 'w', **out_meta) as dst:\n",
    "        dst.write(out_image)"
   ]
  },
  {
   "cell_type": "code",
   "execution_count": null,
   "metadata": {},
   "outputs": [],
   "source": [
    "# Plot just the subset\n",
    "import rasterio.plot\n",
    "with rasterio.open('subset.tif') as src:\n",
    "    rasterio.plot.show(src, cmap='Reds')"
   ]
  },
  {
   "cell_type": "code",
   "execution_count": null,
   "metadata": {},
   "outputs": [],
   "source": [
    "# Excercise 1) Load and visualize the highest-resolution 15m pancromatic band instead of the red band\n",
    "# Excercise 2) Calculate a band ratio between any two bands"
   ]
  },
  {
   "cell_type": "markdown",
   "metadata": {},
   "source": [
    "# Xarray DataArray\n",
    "\n",
    "The xarray multidimensional data model works well if you want to perform computations on multiple bands for a single image, and to utilize dask for distributed computations"
   ]
  },
  {
   "cell_type": "code",
   "execution_count": null,
   "metadata": {},
   "outputs": [],
   "source": [
    "# Use just 30 meter bands for simplicity\n",
    "bands = band_info.query('gsd == 30').common_name.to_list()\n",
    "bands"
   ]
  },
  {
   "cell_type": "code",
   "execution_count": null,
   "metadata": {},
   "outputs": [],
   "source": [
    "def load_dataarray(item, bands):\n",
    "    ''' Load STAC item into an xarray DataSet '''\n",
    "    data_arrays = []\n",
    "    for band in bands:\n",
    "        url = item.asset(band)['href']\n",
    "        da = xr.open_rasterio(url, chunks={'band': 1, 'x': 1024, 'y': 1024})\n",
    "        data_arrays.append(da.assign_coords(band=[band]))\n",
    "    return xr.concat(data_arrays, dim='band')"
   ]
  },
  {
   "cell_type": "code",
   "execution_count": null,
   "metadata": {},
   "outputs": [],
   "source": [
    "da = load_dataarray(item, bands)"
   ]
  },
  {
   "cell_type": "code",
   "execution_count": null,
   "metadata": {},
   "outputs": [],
   "source": [
    "da"
   ]
  },
  {
   "cell_type": "code",
   "execution_count": null,
   "metadata": {},
   "outputs": [],
   "source": [
    "img = da.hvplot.image(groupby='band', rasterize=True, width=700, height=500, alpha=0.8, title=f'{item.id}') # , logz=True not working \n",
    "img"
   ]
  },
  {
   "cell_type": "markdown",
   "metadata": {},
   "source": [
    "# Xarray DataSets\n",
    "\n",
    "It is arguable better to think of image bands as observational variables rather than a dimension of the dataset. DataSets are meant for storing multiple variables. This data structure is also useful for timeseries of multiple images."
   ]
  },
  {
   "cell_type": "code",
   "execution_count": null,
   "metadata": {},
   "outputs": [],
   "source": [
    "def load_dataset(item, bands):\n",
    "    ''' Load STAC item into an xarray DataSet '''\n",
    "    data_arrays = []\n",
    "    for band in bands:\n",
    "        url = item.asset(band)['href']\n",
    "        da = xr.open_rasterio(url, chunks={'band': 1, 'x': 1024, 'y': 1024})\n",
    "        da = da.expand_dims(time=[pd.to_datetime(item.date)])\n",
    "        ds = da.to_dataset(name=band)\n",
    "        data_arrays.append(ds)\n",
    "    ds = xr.combine_by_coords(data_arrays)\n",
    "    return ds"
   ]
  },
  {
   "cell_type": "code",
   "execution_count": null,
   "metadata": {},
   "outputs": [],
   "source": [
    "ds = load_dataset(item, bands)"
   ]
  },
  {
   "cell_type": "code",
   "execution_count": null,
   "metadata": {},
   "outputs": [],
   "source": [
    "ds"
   ]
  },
  {
   "cell_type": "code",
   "execution_count": null,
   "metadata": {},
   "outputs": [],
   "source": [
    "print(ds)\n",
    "print('Dataset size (Gb): ', ds.nbytes/1e9)"
   ]
  },
  {
   "cell_type": "code",
   "execution_count": null,
   "metadata": {},
   "outputs": [],
   "source": [
    "ds['blue'].hvplot.image(rasterize=True, logz=True, width=700, height=500, cmap='blues', title=f'{item.id} (blue)')"
   ]
  },
  {
   "cell_type": "code",
   "execution_count": null,
   "metadata": {},
   "outputs": [],
   "source": [
    "# Lazy computation with dask\n",
    "NDVI = (ds['nir'] - ds['red']) / (ds['nir'] + ds['red'])\n",
    "NDVI"
   ]
  },
  {
   "cell_type": "code",
   "execution_count": null,
   "metadata": {},
   "outputs": [],
   "source": [
    "# Compute and store in local memory\n",
    "ndvi = NDVI.compute()\n",
    "ndvi"
   ]
  },
  {
   "cell_type": "code",
   "execution_count": null,
   "metadata": {},
   "outputs": [],
   "source": [
    "# Put together a larger dataset\n",
    "results = satsearch.Search.search(collection='landsat-8-l1', \n",
    "                        bbox=bbox, \n",
    "                        datetime='2019-08-15/2019-09-30',\n",
    "                        sort=['<datetime']) #earliest scene first\n",
    "print('%s items' % results.found())\n",
    "items = results.items()\n",
    "items.save('set.geojson')"
   ]
  },
  {
   "cell_type": "code",
   "execution_count": null,
   "metadata": {},
   "outputs": [],
   "source": [
    "gf = gpd.read_file('set.geojson')\n",
    "gf"
   ]
  },
  {
   "cell_type": "code",
   "execution_count": null,
   "metadata": {},
   "outputs": [],
   "source": [
    "# Plot search AOI and frames on a map using Holoviz Libraries\n",
    "cols = gf.loc[:,('id','geometry')]\n",
    "\n",
    "footprints = cols.hvplot(geo=True, line_color='k', alpha=0.1, title='Landsat 8 T1')\n",
    "tiles = gv.tile_sources.CartoEco.options(width=700, height=500) \n",
    "labels = gv.tile_sources.StamenLabels.options(level='annotation')\n",
    "tiles * footprints * labels"
   ]
  },
  {
   "cell_type": "code",
   "execution_count": null,
   "metadata": {},
   "outputs": [],
   "source": [
    "# NOTE: this is not a very efficient bit of code, but it works\n",
    "datasets = []\n",
    "for item in items:\n",
    "    datasets.append(load_dataset(item, bands))\n",
    "DS = xr.concat(datasets, dim='band')"
   ]
  },
  {
   "cell_type": "code",
   "execution_count": null,
   "metadata": {},
   "outputs": [],
   "source": [
    "print('Dataset size (Gb): ', DS.nbytes/1e9)"
   ]
  },
  {
   "cell_type": "code",
   "execution_count": null,
   "metadata": {},
   "outputs": [],
   "source": [
    "DS"
   ]
  },
  {
   "cell_type": "code",
   "execution_count": null,
   "metadata": {},
   "outputs": [],
   "source": [
    "from dask.distributed import Client\n",
    "\n",
    "client = Client(\"tcp://192.168.14.160:39645\")\n",
    "client"
   ]
  },
  {
   "cell_type": "code",
   "execution_count": null,
   "metadata": {},
   "outputs": [],
   "source": [
    "DS = DS.assign_coords(band=range(len(datasets)))"
   ]
  },
  {
   "cell_type": "code",
   "execution_count": null,
   "metadata": {},
   "outputs": [],
   "source": [
    "DS"
   ]
  },
  {
   "cell_type": "code",
   "execution_count": null,
   "metadata": {},
   "outputs": [],
   "source": [
    "bounds = gfa.to_crs(epsg=32638).bounds #32638 UTM 38N    #32738 UTM 38S\n",
    "bounds"
   ]
  },
  {
   "cell_type": "code",
   "execution_count": null,
   "metadata": {},
   "outputs": [],
   "source": [
    "print(bounds.minx[0], bounds.maxx[0], bounds.miny[0], bounds.maxy[0])"
   ]
  },
  {
   "cell_type": "code",
   "execution_count": null,
   "metadata": {},
   "outputs": [],
   "source": [
    "DS.sel(x=slice(bounds.minx[0], bounds.maxx[0]), y=slice(bounds.miny[0], bounds.maxy[0]))"
   ]
  },
  {
   "cell_type": "code",
   "execution_count": null,
   "metadata": {},
   "outputs": [],
   "source": [
    "mosaic = DS.sel(x=slice(bounds.minx[0], bounds.maxx[0]), y=slice(bounds.miny[0], bounds.maxy[0])).mean(dim='band')"
   ]
  },
  {
   "cell_type": "code",
   "execution_count": null,
   "metadata": {},
   "outputs": [],
   "source": [
    "# Can change chunks before computing at dask\n",
    "mosaic.chunk(chunks=dict(time=3,x=1395,y=2368))"
   ]
  },
  {
   "cell_type": "code",
   "execution_count": null,
   "metadata": {},
   "outputs": [],
   "source": [
    "mosaic['nir'].hvplot.image(x='x',y='y',groupby='time', rasterize=True, width=700, height=500)"
   ]
  }
 ],
 "metadata": {
  "kernelspec": {
   "display_name": "Python [conda env:notebook] *",
   "language": "python",
   "name": "conda-env-notebook-py"
  },
  "language_info": {
   "codemirror_mode": {
    "name": "ipython",
    "version": 3
   },
   "file_extension": ".py",
   "mimetype": "text/x-python",
   "name": "python",
   "nbconvert_exporter": "python",
   "pygments_lexer": "ipython3",
   "version": "3.7.3"
  }
 },
 "nbformat": 4,
 "nbformat_minor": 4
}
